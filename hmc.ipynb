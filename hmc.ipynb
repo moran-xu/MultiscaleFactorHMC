{
 "cells": [
  {
   "cell_type": "code",
   "execution_count": 1,
   "metadata": {},
   "outputs": [],
   "source": [
    "import pickle as pkl\n",
    "A = pkl.load(open('./brain_one_adj.pkl','rb'))\n"
   ]
  },
  {
   "cell_type": "code",
   "execution_count": 2,
   "metadata": {},
   "outputs": [
    {
     "data": {
      "text/plain": [
       "array([[1., 1., 1., ..., 0., 0., 0.],\n",
       "       [1., 1., 1., ..., 0., 0., 0.],\n",
       "       [1., 1., 1., ..., 0., 0., 0.],\n",
       "       ...,\n",
       "       [0., 0., 0., ..., 1., 1., 0.],\n",
       "       [0., 0., 0., ..., 1., 1., 1.],\n",
       "       [0., 0., 0., ..., 0., 1., 1.]])"
      ]
     },
     "execution_count": 2,
     "metadata": {},
     "output_type": "execute_result"
    }
   ],
   "source": [
    "A"
   ]
  },
  {
   "cell_type": "code",
   "execution_count": 3,
   "metadata": {},
   "outputs": [],
   "source": [
    "import jax.numpy as np\n",
    "\n",
    "import numpy as onp\n",
    "\n",
    "from jax import random\n",
    "\n",
    "from jax import grad, jit, vmap\n",
    "\n",
    "import matplotlib.pylab as plt\n",
    "\n"
   ]
  },
  {
   "cell_type": "code",
   "execution_count": 4,
   "metadata": {},
   "outputs": [],
   "source": [
    "from tqdm.notebook import trange\n",
    "\n",
    "# #usual installation \n",
    "# pip install ipywidgets \n",
    "# jupyter nbextension enable --py widgetsnbextension\n",
    "# jupyter labextension install @jupyter-widgets/jupyterlab-manager"
   ]
  },
  {
   "cell_type": "code",
   "execution_count": null,
   "metadata": {},
   "outputs": [],
   "source": []
  },
  {
   "cell_type": "code",
   "execution_count": 5,
   "metadata": {},
   "outputs": [],
   "source": [
    "A_ini = A.copy()"
   ]
  },
  {
   "cell_type": "code",
   "execution_count": 6,
   "metadata": {},
   "outputs": [],
   "source": [
    "A_ini[A==1]= 0.9\n",
    "A_ini[A==0]= 0.1\n",
    "\n",
    "phi = np.log(A_ini/(1-A_ini))"
   ]
  },
  {
   "cell_type": "code",
   "execution_count": 7,
   "metadata": {},
   "outputs": [],
   "source": [
    "def sigmoid(x):\n",
    "    return 1.0/(1.0+ np.exp(-x))\n",
    "\n",
    "def softplus(x):\n",
    "    return np.log(1.0+ np.exp(x))\n",
    "\n"
   ]
  },
  {
   "cell_type": "code",
   "execution_count": 8,
   "metadata": {},
   "outputs": [],
   "source": [
    "\n",
    "phi -= np.mean(phi)\n",
    "\n",
    "Q, D, _ =np.linalg.svd(phi)\n",
    "\n",
    "n = A.shape[0]\n",
    "k = 5\n",
    "\n",
    "B = onp.random.normal(0,1,[n,k])\n",
    "\n",
    "p = onp.random.uniform(0,1,k)\n",
    "\n",
    "a = onp.ones(k)\n",
    "b = onp.random.normal(0,1,k)\n",
    "\n",
    "\n",
    "\n",
    "D= (D[:k])\n",
    "\n",
    "z = -5.0"
   ]
  },
  {
   "cell_type": "code",
   "execution_count": 9,
   "metadata": {},
   "outputs": [],
   "source": [
    "def llh(A, Q, D, z):\n",
    "    #D: k diagonal matrix\n",
    "    #Q: n*k matrix\n",
    "    pi_0 = Q@np.diag(np.abs(D))@Q.T\n",
    "    \n",
    "    pi = sigmoid(pi_0 + z)\n",
    "    loglh = A* np.log(pi)+(1-A)*np.log(1.0-pi)\n",
    "    s = np.sum(np.tril(loglh,k=-1))\n",
    "    return(s)"
   ]
  },
  {
   "cell_type": "code",
   "execution_count": null,
   "metadata": {},
   "outputs": [],
   "source": []
  },
  {
   "cell_type": "code",
   "execution_count": 10,
   "metadata": {},
   "outputs": [],
   "source": [
    "# import jax.scipy.special\n",
    "def prior_D(D):\n",
    "    a= .1\n",
    "    b= .1\n",
    "    return np.sum( -(a+1)* np.log(D) - b/D)\n",
    "\n",
    "def prior_Z(z):\n",
    "    return - z**2/2.0/3**2"
   ]
  },
  {
   "cell_type": "code",
   "execution_count": 11,
   "metadata": {},
   "outputs": [],
   "source": [
    "def g(W, p):\n",
    "    return np.sum(W@np.log(p) + (1.0 -W) @ np.log(1.0 -p))"
   ]
  },
  {
   "cell_type": "code",
   "execution_count": 12,
   "metadata": {},
   "outputs": [],
   "source": [
    "def U(D, B, z, a, b, p):\n",
    "    #D: k-dim vector\n",
    "    n,k = B.shape\n",
    "    \n",
    "    tau = 1E-2\n",
    "    \n",
    "    W = 1/(1+np.exp(-B/tau))\n",
    "    \n",
    "    X = W @ np.diag(a) + (1.0-W)@ np.diag(b)\n",
    "\n",
    "    Mx = X.T@X\n",
    "    cholL = np.linalg.cholesky(Mx)\n",
    "    Q= np.linalg.solve(cholL, X.T).T\n",
    "    \n",
    "    u = -llh(A, Q, D, z) - prior_D(np.abs(D)) - prior_Z(z) - g(W, p)  - (n-k-1)/2.0*(np.linalg.slogdet(Mx)[1]) +  (np.sum(a**2 + b**2))/2.0\n",
    "\n",
    "    return(u)"
   ]
  },
  {
   "cell_type": "code",
   "execution_count": 13,
   "metadata": {},
   "outputs": [],
   "source": [
    "U_fast = jit(U)"
   ]
  },
  {
   "cell_type": "code",
   "execution_count": 14,
   "metadata": {},
   "outputs": [
    {
     "data": {
      "text/plain": [
       "DeviceArray(2992.3223, dtype=float32)"
      ]
     },
     "execution_count": 14,
     "metadata": {},
     "output_type": "execute_result"
    }
   ],
   "source": [
    "U_fast(D,B,z,a,b,p)"
   ]
  },
  {
   "cell_type": "code",
   "execution_count": 15,
   "metadata": {},
   "outputs": [],
   "source": [
    "grad_U = jit(grad(U, (0,1,2)))"
   ]
  },
  {
   "cell_type": "code",
   "execution_count": 16,
   "metadata": {},
   "outputs": [],
   "source": [
    "epsilon = 1E-3"
   ]
  },
  {
   "cell_type": "code",
   "execution_count": null,
   "metadata": {},
   "outputs": [],
   "source": []
  },
  {
   "cell_type": "code",
   "execution_count": null,
   "metadata": {},
   "outputs": [],
   "source": []
  },
  {
   "cell_type": "code",
   "execution_count": 17,
   "metadata": {},
   "outputs": [],
   "source": [
    "def HMC(U, grad_U, epsilon, L, D, B,z, a, b, p, M = 1):\n",
    "    \n",
    "    n, k = B.shape\n",
    "    \n",
    "    s = [D,B, z]\n",
    "    current_s = s.copy()\n",
    "    \n",
    "    num_params = len(current_s)\n",
    "        \n",
    "    if M ==1:\n",
    "        M = [1]*num_params\n",
    "    \n",
    "    \n",
    "    \n",
    "    v = [onp.random.normal(0,1, np.shape(current_s[i]))*np.sqrt(M[i]) for i in range(num_params)]\n",
    "    # this is done in place\n",
    "    current_v = v.copy()\n",
    "    \n",
    "    # Make a half step for momentum at the beginning\n",
    "    \n",
    "    val_grad_U = grad_U(s[0], s[1],s[2], a, b, p)\n",
    "    v = [(v[i] - epsilon * val_grad_U[i] / 2.0) for i in range(num_params)]\n",
    "\n",
    "    for i in range(L):\n",
    "        s = [ (s[i] + epsilon * v[i]/M[i]) for  i in range(num_params)]\n",
    "\n",
    "        if i != (L-1):\n",
    "            val_grad_U = grad_U(s[0], s[1],s[2], a, b, p)\n",
    "            v = [(v[i] - epsilon * val_grad_U[i]) for i in range(num_params)]\n",
    "                           \n",
    "    val_grad_U = grad_U(s[0], s[1],s[2], a, b, p)\n",
    "    v = [(v[i] - epsilon/2.0 * val_grad_U[i]) for i in range(num_params)]    \n",
    "                           \n",
    "    current_U = U(D,B,z, a, b, p)\n",
    "    current_K = WeightedSumOfSquares(current_v,M) / 2.0\n",
    "\n",
    "    proposed_U = U(s[0], s[1],s[2], a, b, p)\n",
    "    proposed_K = WeightedSumOfSquares(v,M) / 2.0\n",
    "    \n",
    "    if np.log(onp.random.rand(1)) < (current_U-proposed_U+current_K-proposed_K):\n",
    "        return((s[0], s[1],s[2], 1)) ### accept\n",
    "    else:\n",
    "        return((current_s[0], current_s[1],current_s[2], 0)) ### reject"
   ]
  },
  {
   "cell_type": "code",
   "execution_count": null,
   "metadata": {},
   "outputs": [],
   "source": []
  },
  {
   "cell_type": "code",
   "execution_count": null,
   "metadata": {},
   "outputs": [],
   "source": []
  },
  {
   "cell_type": "code",
   "execution_count": 18,
   "metadata": {},
   "outputs": [],
   "source": [
    "\n",
    "def WeightedSumOfSquares(p,M):\n",
    "    n = len(p)\n",
    "    return np.sum(np.array([np.sum(p[i]**2)/M[i] for i in range(n)]))"
   ]
  },
  {
   "cell_type": "code",
   "execution_count": null,
   "metadata": {},
   "outputs": [],
   "source": []
  },
  {
   "cell_type": "code",
   "execution_count": 19,
   "metadata": {},
   "outputs": [],
   "source": [
    "def sample_Y(n, k, p, a, b , r= 0.1):\n",
    "    Y = onp.zeros((n,k))\n",
    "    for j in range(k):\n",
    "        Y[:,j] = onp.random.binomial(1, p = p[j], size = n)\n",
    "        \n",
    "    r = .1\n",
    "    \n",
    "    #\n",
    "    a_new = a\n",
    "    \n",
    "#     a_new = a + onp.random.uniform(low=-r, high = r , size= k)\n",
    "    b_new = b + onp.random.uniform(low=-r, high = r , size = k)\n",
    "    \n",
    "    if onp.linalg.matrix_rank(Y@onp.diag(a_new)+ (1-Y)@onp.diag(b_new))<k:\n",
    "        Y, a_new, b_new = sample_Y(n,k,p,a,b)\n",
    "    return [Y, a_new, b_new]"
   ]
  },
  {
   "cell_type": "code",
   "execution_count": null,
   "metadata": {},
   "outputs": [],
   "source": []
  },
  {
   "cell_type": "code",
   "execution_count": 20,
   "metadata": {},
   "outputs": [],
   "source": [
    "def exchangeMC(D, B,z, a, b, p, r= 0.1):\n",
    "    n, k = B.shape\n",
    "    tau = 1E-2\n",
    "    W = 1/(1+np.exp(-B/tau))\n",
    "\n",
    "    alpha = 1 + np.sum(W, axis = 0)\n",
    "    beta = 1 + n - np.sum(W, axis = 0)\n",
    "\n",
    "    p_new = onp.random.beta(alpha, beta)\n",
    "\n",
    "    Y, a_new, b_new = sample_Y(n,k,p,a,b, r)\n",
    "\n",
    "\n",
    "\n",
    "    acc_logprob = -U_fast(D, B, z, a_new, b_new, p_new) + U_fast(D, B, z,a, b, p) + g(W, p) + g(Y,p) - g(W, p_new) - g(Y,p_new)\n",
    "\n",
    "\n",
    "    acc_logprob\n",
    "    if onp.log(onp.random.rand(1)) < acc_logprob:\n",
    "        a = a_new\n",
    "        b = b_new\n",
    "        p = p_new\n",
    "        return [a_new,b_new,p_new, 1] #Acc\n",
    "    else:\n",
    "        return [a,b,p, 0] #Rej"
   ]
  },
  {
   "cell_type": "code",
   "execution_count": 21,
   "metadata": {},
   "outputs": [],
   "source": [
    "D,B,z, accept_HMC = HMC(U_fast,grad_U,1E-5, 20, D,B,z,a,b,p)\n",
    "a,b,p, accept_ExMC = exchangeMC(D, B,z, a, b, p, r= 0.1)"
   ]
  },
  {
   "cell_type": "code",
   "execution_count": 22,
   "metadata": {},
   "outputs": [
    {
     "data": {
      "application/vnd.jupyter.widget-view+json": {
       "model_id": "cfee546d6a11402fbfab1d331b25e615",
       "version_major": 2,
       "version_minor": 0
      },
      "text/plain": [
       "HBox(children=(FloatProgress(value=0.0, max=10.0), HTML(value='')))"
      ]
     },
     "metadata": {},
     "output_type": "display_data"
    },
    {
     "data": {
      "application/vnd.jupyter.widget-view+json": {
       "model_id": "63101d3e99fc45668a6d11c2aa70ab95",
       "version_major": 2,
       "version_minor": 0
      },
      "text/plain": [
       "HBox(children=(FloatProgress(value=0.0), HTML(value='')))"
      ]
     },
     "metadata": {},
     "output_type": "display_data"
    },
    {
     "name": "stdout",
     "output_type": "stream",
     "text": [
      "\n",
      "[108.20035   59.59173   47.140312  43.6119    36.901676]\n",
      "-3.1531684\n",
      "1.0 0.89 1.0 0.67\n"
     ]
    },
    {
     "data": {
      "application/vnd.jupyter.widget-view+json": {
       "model_id": "c5415e3dcf5f43b1ab057c8431682314",
       "version_major": 2,
       "version_minor": 0
      },
      "text/plain": [
       "HBox(children=(FloatProgress(value=0.0), HTML(value='')))"
      ]
     },
     "metadata": {},
     "output_type": "display_data"
    },
    {
     "name": "stdout",
     "output_type": "stream",
     "text": [
      "\n",
      "[105.624794  69.498726  51.29516   48.365322  33.862003]\n",
      "-3.1679285\n",
      "1.0 0.72 0.99 0.7\n"
     ]
    },
    {
     "data": {
      "application/vnd.jupyter.widget-view+json": {
       "model_id": "406f26638c9843d1abaf6f5bc1d86979",
       "version_major": 2,
       "version_minor": 0
      },
      "text/plain": [
       "HBox(children=(FloatProgress(value=0.0), HTML(value='')))"
      ]
     },
     "metadata": {},
     "output_type": "display_data"
    },
    {
     "name": "stdout",
     "output_type": "stream",
     "text": [
      "\n",
      "[103.58712   80.71284   56.834007  58.164394  33.836853]\n",
      "-3.2001014\n",
      "1.0 0.59 0.98 0.85\n"
     ]
    },
    {
     "data": {
      "application/vnd.jupyter.widget-view+json": {
       "model_id": "d4a3e0766896403a849199ee7394c065",
       "version_major": 2,
       "version_minor": 0
      },
      "text/plain": [
       "HBox(children=(FloatProgress(value=0.0), HTML(value='')))"
      ]
     },
     "metadata": {},
     "output_type": "display_data"
    },
    {
     "name": "stdout",
     "output_type": "stream",
     "text": [
      "\n",
      "[106.752625 101.80478   62.772484  74.77235   41.80811 ]\n",
      "-3.3607779\n",
      "1.0 0.6 0.95 0.82\n"
     ]
    },
    {
     "data": {
      "application/vnd.jupyter.widget-view+json": {
       "model_id": "5349acedd70548f9a5c83f379ae9956f",
       "version_major": 2,
       "version_minor": 0
      },
      "text/plain": [
       "HBox(children=(FloatProgress(value=0.0), HTML(value='')))"
      ]
     },
     "metadata": {},
     "output_type": "display_data"
    },
    {
     "name": "stdout",
     "output_type": "stream",
     "text": [
      "\n",
      "[113.26858  119.60018   74.30527   88.441895  52.278927]\n",
      "-3.6267478\n",
      "1.0 0.43 0.96 0.81\n"
     ]
    },
    {
     "data": {
      "application/vnd.jupyter.widget-view+json": {
       "model_id": "934d7255ca5c499fafaaa14a88e29daa",
       "version_major": 2,
       "version_minor": 0
      },
      "text/plain": [
       "HBox(children=(FloatProgress(value=0.0), HTML(value='')))"
      ]
     },
     "metadata": {},
     "output_type": "display_data"
    },
    {
     "name": "stdout",
     "output_type": "stream",
     "text": [
      "\n",
      "[120.225075 128.01428   82.61771   88.8663    63.69965 ]\n",
      "-3.7841392\n",
      "1.0 0.78 0.9 0.85\n"
     ]
    },
    {
     "data": {
      "application/vnd.jupyter.widget-view+json": {
       "model_id": "9d555390f025447886984b255e91fefc",
       "version_major": 2,
       "version_minor": 0
      },
      "text/plain": [
       "HBox(children=(FloatProgress(value=0.0), HTML(value='')))"
      ]
     },
     "metadata": {},
     "output_type": "display_data"
    },
    {
     "name": "stdout",
     "output_type": "stream",
     "text": [
      "\n",
      "[ 97.21461 134.5435   70.11039  97.15741  67.96851]\n",
      "-3.5632162\n",
      "0.99 0.69 0.69 0.89\n"
     ]
    },
    {
     "data": {
      "application/vnd.jupyter.widget-view+json": {
       "model_id": "f09354c8b752432b82c34f2ae4fd683b",
       "version_major": 2,
       "version_minor": 0
      },
      "text/plain": [
       "HBox(children=(FloatProgress(value=0.0), HTML(value='')))"
      ]
     },
     "metadata": {},
     "output_type": "display_data"
    },
    {
     "name": "stdout",
     "output_type": "stream",
     "text": [
      "\n",
      "[139.0196  136.9694   81.07947  93.75897  80.02176]\n",
      "-4.095605\n",
      "0.99 0.43 0.86 0.93\n"
     ]
    },
    {
     "data": {
      "application/vnd.jupyter.widget-view+json": {
       "model_id": "f85adc3fe2c544fb8bc26aa68ea4e5da",
       "version_major": 2,
       "version_minor": 0
      },
      "text/plain": [
       "HBox(children=(FloatProgress(value=0.0), HTML(value='')))"
      ]
     },
     "metadata": {},
     "output_type": "display_data"
    },
    {
     "name": "stdout",
     "output_type": "stream",
     "text": [
      "\n",
      "[108.04185  133.05035   87.2899    92.7631    74.554886]\n",
      "-3.7213428\n",
      "0.96 0.68 0.35 0.94\n"
     ]
    },
    {
     "data": {
      "application/vnd.jupyter.widget-view+json": {
       "model_id": "de6a04588ef34ae4b939949771254254",
       "version_major": 2,
       "version_minor": 0
      },
      "text/plain": [
       "HBox(children=(FloatProgress(value=0.0), HTML(value='')))"
      ]
     },
     "metadata": {},
     "output_type": "display_data"
    },
    {
     "name": "stdout",
     "output_type": "stream",
     "text": [
      "\n",
      "[153.27843  140.25461   91.27067   98.66912   90.002235]\n",
      "-4.1572127\n",
      "0.93 0.72 0.72 0.92\n",
      "\n"
     ]
    }
   ],
   "source": [
    "# use large mass to force moving one parameter at each time\n",
    "\n",
    "eps1 = 1E-2\n",
    "eps2 = 1E-2\n",
    "eps3 = 1E-2\n",
    "\n",
    "r = 0.1\n",
    "\n",
    "M1 = [1.,1000.,1000.]\n",
    "M2 = [1000.,1.,1000.]\n",
    "M3 = [1000.,1000.,1.]\n",
    "\n",
    "# tune the step size eps, so that the acceptance rate is approximately 0.65\n",
    "\n",
    "\n",
    "for k in trange(10):\n",
    "    accept_count_hmc1 = 0\n",
    "    accept_count_hmc2 = 0\n",
    "    accept_count_hmc3 = 0\n",
    "    accept_count_exmc = 0\n",
    "\n",
    "    for i in trange(100):\n",
    "        D,B,z, accept_HMC1 = HMC(U_fast,grad_U, eps1, 20, D,B,z,a,b,p, M1)\n",
    "        D,B,z, accept_HMC2 = HMC(U_fast,grad_U, eps2, 20, D,B,z,a,b,p, M2)\n",
    "        D,B,z, accept_HMC3 = HMC(U_fast,grad_U, eps3, 20, D,B,z,a,b,p, M3)\n",
    "\n",
    "        a,b,p, accept_ExMC = exchangeMC(D, B, z,a, b, p, r)\n",
    "        accept_count_hmc1 += accept_HMC1\n",
    "        accept_count_hmc2 += accept_HMC2\n",
    "        accept_count_hmc3 += accept_HMC3\n",
    "\n",
    "        accept_count_exmc+= accept_ExMC\n",
    "        \n",
    "    accept_rate_hmc1 = accept_count_hmc1/ 100.0\n",
    "    accept_rate_hmc2 = accept_count_hmc2/ 100.0\n",
    "    accept_rate_hmc3 = accept_count_hmc3/ 100.0\n",
    "\n",
    "    accept_rate_exmc = accept_count_exmc/ 100.0\n",
    "    \n",
    "    eps1 *= onp.exp( (accept_rate_hmc1 - 0.65))\n",
    "    eps2 *= onp.exp( (accept_rate_hmc2 - 0.65))\n",
    "    eps3 *= onp.exp( (accept_rate_hmc3 - 0.65))\n",
    "\n",
    "    r *= onp.exp( 10*(accept_rate_exmc - 0.234))\n",
    "    \n",
    "    print(np.abs(D))\n",
    "    print(z)\n",
    "\n",
    "#     print(accept_rate_hmc1, accept_rate_exmc)\n",
    "\n",
    "    print(accept_rate_hmc1,accept_rate_hmc2,accept_rate_hmc3, accept_rate_exmc)\n"
   ]
  },
  {
   "cell_type": "code",
   "execution_count": 23,
   "metadata": {},
   "outputs": [],
   "source": [
    "# set the mass to the eps's, then move all parameters at the same time\n",
    "# we need another round of adaption to reduce eps_common slightly, so that the acceptance rate is non-zero\n",
    "\n",
    "eps_common =  1\n",
    "M = [eps1,eps2,eps3]"
   ]
  },
  {
   "cell_type": "code",
   "execution_count": 24,
   "metadata": {},
   "outputs": [
    {
     "data": {
      "application/vnd.jupyter.widget-view+json": {
       "model_id": "3edf41b449714e3ab253be051139b24b",
       "version_major": 2,
       "version_minor": 0
      },
      "text/plain": [
       "HBox(children=(FloatProgress(value=0.0, max=10.0), HTML(value='')))"
      ]
     },
     "metadata": {},
     "output_type": "display_data"
    },
    {
     "data": {
      "application/vnd.jupyter.widget-view+json": {
       "model_id": "d6199fdab36f45c9a1ffdd30569893c4",
       "version_major": 2,
       "version_minor": 0
      },
      "text/plain": [
       "HBox(children=(FloatProgress(value=0.0), HTML(value='')))"
      ]
     },
     "metadata": {},
     "output_type": "display_data"
    },
    {
     "name": "stdout",
     "output_type": "stream",
     "text": [
      "\n",
      "[153.27843  140.25461   91.27067   98.66912   90.002235]\n",
      "-4.1572127\n",
      "0.0 0.93\n"
     ]
    },
    {
     "data": {
      "application/vnd.jupyter.widget-view+json": {
       "model_id": "e8ac83a2c3e04520854fee9101384c3b",
       "version_major": 2,
       "version_minor": 0
      },
      "text/plain": [
       "HBox(children=(FloatProgress(value=0.0), HTML(value='')))"
      ]
     },
     "metadata": {},
     "output_type": "display_data"
    },
    {
     "name": "stdout",
     "output_type": "stream",
     "text": [
      "\n",
      "[150.14023  125.84256   82.934525 101.45652   86.32469 ]\n",
      "-4.109419\n",
      "0.24 0.94\n"
     ]
    },
    {
     "data": {
      "application/vnd.jupyter.widget-view+json": {
       "model_id": "8ff830ad0fa543c8a7a0a1ad6339233b",
       "version_major": 2,
       "version_minor": 0
      },
      "text/plain": [
       "HBox(children=(FloatProgress(value=0.0), HTML(value='')))"
      ]
     },
     "metadata": {},
     "output_type": "display_data"
    },
    {
     "name": "stdout",
     "output_type": "stream",
     "text": [
      "\n",
      "[134.16098  139.48547   87.08172   97.840546  82.6907  ]\n",
      "-4.0056863\n",
      "0.78 0.93\n"
     ]
    },
    {
     "data": {
      "application/vnd.jupyter.widget-view+json": {
       "model_id": "6b69a15fbd0b48ae9b3f33ae9cc44cf8",
       "version_major": 2,
       "version_minor": 0
      },
      "text/plain": [
       "HBox(children=(FloatProgress(value=0.0), HTML(value='')))"
      ]
     },
     "metadata": {},
     "output_type": "display_data"
    },
    {
     "name": "stdout",
     "output_type": "stream",
     "text": [
      "\n",
      "[148.6902  128.32242  77.88823  99.87676  78.11192]\n",
      "-4.0236654\n",
      "0.5 0.97\n"
     ]
    },
    {
     "data": {
      "application/vnd.jupyter.widget-view+json": {
       "model_id": "f6ba85db69874296af011affd3176f3f",
       "version_major": 2,
       "version_minor": 0
      },
      "text/plain": [
       "HBox(children=(FloatProgress(value=0.0), HTML(value='')))"
      ]
     },
     "metadata": {},
     "output_type": "display_data"
    },
    {
     "name": "stdout",
     "output_type": "stream",
     "text": [
      "\n",
      "[160.14325  146.52254   83.32365  104.922714  89.89503 ]\n",
      "-4.2679844\n",
      "0.68 0.91\n"
     ]
    },
    {
     "data": {
      "application/vnd.jupyter.widget-view+json": {
       "model_id": "a2a46854dbed4bc0b1421d39f2653682",
       "version_major": 2,
       "version_minor": 0
      },
      "text/plain": [
       "HBox(children=(FloatProgress(value=0.0), HTML(value='')))"
      ]
     },
     "metadata": {},
     "output_type": "display_data"
    },
    {
     "name": "stdout",
     "output_type": "stream",
     "text": [
      "\n",
      "[155.15279  142.92497   67.931114 104.34291   75.48259 ]\n",
      "-4.1292877\n",
      "0.62 0.9\n"
     ]
    },
    {
     "data": {
      "application/vnd.jupyter.widget-view+json": {
       "model_id": "d1c7e24f84834e21b81771cddd635af8",
       "version_major": 2,
       "version_minor": 0
      },
      "text/plain": [
       "HBox(children=(FloatProgress(value=0.0), HTML(value='')))"
      ]
     },
     "metadata": {},
     "output_type": "display_data"
    },
    {
     "name": "stdout",
     "output_type": "stream",
     "text": [
      "\n",
      "[161.03886 158.28395  76.73205 104.4045   83.78907]\n",
      "-4.196926\n",
      "0.38 0.91\n"
     ]
    },
    {
     "data": {
      "application/vnd.jupyter.widget-view+json": {
       "model_id": "25efed07f8bd46a29314e29895b8595a",
       "version_major": 2,
       "version_minor": 0
      },
      "text/plain": [
       "HBox(children=(FloatProgress(value=0.0), HTML(value='')))"
      ]
     },
     "metadata": {},
     "output_type": "display_data"
    },
    {
     "name": "stdout",
     "output_type": "stream",
     "text": [
      "\n",
      "[173.69424  151.8501    74.641235  97.135864  87.27663 ]\n",
      "-4.33502\n",
      "0.66 0.91\n"
     ]
    },
    {
     "data": {
      "application/vnd.jupyter.widget-view+json": {
       "model_id": "f69217ff879645549d4fc1de14d27ca4",
       "version_major": 2,
       "version_minor": 0
      },
      "text/plain": [
       "HBox(children=(FloatProgress(value=0.0), HTML(value='')))"
      ]
     },
     "metadata": {},
     "output_type": "display_data"
    },
    {
     "name": "stdout",
     "output_type": "stream",
     "text": [
      "\n",
      "[160.19623 143.84511  68.1504  108.04501  92.99437]\n",
      "-4.232729\n",
      "0.71 0.96\n"
     ]
    },
    {
     "data": {
      "application/vnd.jupyter.widget-view+json": {
       "model_id": "63a929cc41364496949252c6950b08ca",
       "version_major": 2,
       "version_minor": 0
      },
      "text/plain": [
       "HBox(children=(FloatProgress(value=0.0), HTML(value='')))"
      ]
     },
     "metadata": {},
     "output_type": "display_data"
    },
    {
     "name": "stdout",
     "output_type": "stream",
     "text": [
      "\n",
      "[162.54045 157.84698  72.92614 101.26454  90.70311]\n",
      "-4.296931\n",
      "0.49 0.95\n",
      "\n"
     ]
    }
   ],
   "source": [
    "for k in trange(10):\n",
    "    accept_count_hmc1 = 0\n",
    "    accept_count_hmc2 = 0\n",
    "    accept_count_hmc3 = 0\n",
    "    accept_count_exmc = 0\n",
    "\n",
    "    for i in trange(100):\n",
    "        D,B,z, accept_HMC1 = HMC(U_fast,grad_U, eps_common, 20, D,B,z,a,b,p, M1)\n",
    "\n",
    "        a,b,p, accept_ExMC = exchangeMC(D, B, z,a, b, p, r)\n",
    "        accept_count_hmc1 += accept_HMC1\n",
    "\n",
    "        accept_count_exmc+= accept_ExMC\n",
    "        \n",
    "    accept_rate_hmc1 = accept_count_hmc1/ 100.0\n",
    "\n",
    "    accept_rate_exmc = accept_count_exmc/ 100.0\n",
    "    \n",
    "    eps_common *= onp.exp( (accept_rate_hmc1 - 0.65))\n",
    "    \n",
    "    print(np.abs(D))\n",
    "    print(z)\n",
    "\n",
    "    print(accept_rate_hmc1, accept_rate_exmc)"
   ]
  },
  {
   "cell_type": "code",
   "execution_count": 25,
   "metadata": {},
   "outputs": [
    {
     "data": {
      "text/plain": [
       "0.23692775868212182"
      ]
     },
     "execution_count": 25,
     "metadata": {},
     "output_type": "execute_result"
    }
   ],
   "source": [
    "eps_common"
   ]
  },
  {
   "cell_type": "code",
   "execution_count": 36,
   "metadata": {},
   "outputs": [],
   "source": [
    "# fix  r and eps to ensure ergodicity\n",
    "b_trace = []\n",
    "D_trace = []\n",
    "B_trace = []\n",
    "z_trace = []\n"
   ]
  },
  {
   "cell_type": "code",
   "execution_count": 37,
   "metadata": {},
   "outputs": [
    {
     "data": {
      "application/vnd.jupyter.widget-view+json": {
       "model_id": "1b2a1243763a4863b636b30a1f7dd065",
       "version_major": 2,
       "version_minor": 0
      },
      "text/plain": [
       "HBox(children=(FloatProgress(value=0.0, max=30.0), HTML(value='')))"
      ]
     },
     "metadata": {},
     "output_type": "display_data"
    },
    {
     "data": {
      "application/vnd.jupyter.widget-view+json": {
       "model_id": "d37fdaaddd424f788b78e02150cb7899",
       "version_major": 2,
       "version_minor": 0
      },
      "text/plain": [
       "HBox(children=(FloatProgress(value=0.0), HTML(value='')))"
      ]
     },
     "metadata": {},
     "output_type": "display_data"
    },
    {
     "name": "stdout",
     "output_type": "stream",
     "text": [
      "\n",
      "[161.61684  149.77208   63.066322  94.61496   83.74406 ]\n",
      "-4.1352944\n",
      "0.84 0.96\n"
     ]
    },
    {
     "data": {
      "application/vnd.jupyter.widget-view+json": {
       "model_id": "baf3fe06bab340bb9ea60762de29ae0d",
       "version_major": 2,
       "version_minor": 0
      },
      "text/plain": [
       "HBox(children=(FloatProgress(value=0.0), HTML(value='')))"
      ]
     },
     "metadata": {},
     "output_type": "display_data"
    },
    {
     "name": "stdout",
     "output_type": "stream",
     "text": [
      "\n",
      "[169.5127   162.82893   66.49432  106.99157   94.083084]\n",
      "-4.41885\n",
      "0.75 0.95\n"
     ]
    },
    {
     "data": {
      "application/vnd.jupyter.widget-view+json": {
       "model_id": "c75555e567d74ab99a9bf0e73baa81c5",
       "version_major": 2,
       "version_minor": 0
      },
      "text/plain": [
       "HBox(children=(FloatProgress(value=0.0), HTML(value='')))"
      ]
     },
     "metadata": {},
     "output_type": "display_data"
    },
    {
     "name": "stdout",
     "output_type": "stream",
     "text": [
      "\n",
      "[179.14267 165.95071  74.24336 104.72393  93.16688]\n",
      "-4.459133\n",
      "0.67 0.95\n"
     ]
    },
    {
     "data": {
      "application/vnd.jupyter.widget-view+json": {
       "model_id": "43883b965f0c422d92a89b24ef7872ca",
       "version_major": 2,
       "version_minor": 0
      },
      "text/plain": [
       "HBox(children=(FloatProgress(value=0.0), HTML(value='')))"
      ]
     },
     "metadata": {},
     "output_type": "display_data"
    },
    {
     "name": "stdout",
     "output_type": "stream",
     "text": [
      "\n",
      "[163.57051  161.62175   76.37829  104.12588   92.935616]\n",
      "-4.389242\n",
      "0.78 0.97\n"
     ]
    },
    {
     "data": {
      "application/vnd.jupyter.widget-view+json": {
       "model_id": "01df018a9c864e26b182e84e615de694",
       "version_major": 2,
       "version_minor": 0
      },
      "text/plain": [
       "HBox(children=(FloatProgress(value=0.0), HTML(value='')))"
      ]
     },
     "metadata": {},
     "output_type": "display_data"
    },
    {
     "name": "stdout",
     "output_type": "stream",
     "text": [
      "\n",
      "[153.3104   145.80042   64.76696   98.32221  100.119385]\n",
      "-4.1147227\n",
      "0.82 0.97\n"
     ]
    },
    {
     "data": {
      "application/vnd.jupyter.widget-view+json": {
       "model_id": "81f5b31686b346cea7427325719e3899",
       "version_major": 2,
       "version_minor": 0
      },
      "text/plain": [
       "HBox(children=(FloatProgress(value=0.0), HTML(value='')))"
      ]
     },
     "metadata": {},
     "output_type": "display_data"
    },
    {
     "name": "stdout",
     "output_type": "stream",
     "text": [
      "\n",
      "[171.60582  151.65843   70.060074 105.98887   93.66447 ]\n",
      "-4.3101687\n",
      "0.77 0.98\n"
     ]
    },
    {
     "data": {
      "application/vnd.jupyter.widget-view+json": {
       "model_id": "1c66ab648c0f492183684b196eca27ec",
       "version_major": 2,
       "version_minor": 0
      },
      "text/plain": [
       "HBox(children=(FloatProgress(value=0.0), HTML(value='')))"
      ]
     },
     "metadata": {},
     "output_type": "display_data"
    },
    {
     "name": "stdout",
     "output_type": "stream",
     "text": [
      "\n",
      "[167.86906  154.08713   73.86133  108.70976  100.591934]\n",
      "-4.34423\n",
      "0.85 0.96\n"
     ]
    },
    {
     "data": {
      "application/vnd.jupyter.widget-view+json": {
       "model_id": "369ccaf8d77f4296b709ca8d7665d97d",
       "version_major": 2,
       "version_minor": 0
      },
      "text/plain": [
       "HBox(children=(FloatProgress(value=0.0), HTML(value='')))"
      ]
     },
     "metadata": {},
     "output_type": "display_data"
    },
    {
     "name": "stdout",
     "output_type": "stream",
     "text": [
      "\n",
      "[163.55504  156.16957   79.424446 102.08281  101.66782 ]\n",
      "-4.3359466\n",
      "0.77 0.97\n"
     ]
    },
    {
     "data": {
      "application/vnd.jupyter.widget-view+json": {
       "model_id": "8e5782f4d57f4ffaa78e44f4f46eab1e",
       "version_major": 2,
       "version_minor": 0
      },
      "text/plain": [
       "HBox(children=(FloatProgress(value=0.0), HTML(value='')))"
      ]
     },
     "metadata": {},
     "output_type": "display_data"
    },
    {
     "name": "stdout",
     "output_type": "stream",
     "text": [
      "\n",
      "[166.31296  163.1674    65.052986  95.89424   94.53963 ]\n",
      "-4.290723\n",
      "0.78 0.95\n"
     ]
    },
    {
     "data": {
      "application/vnd.jupyter.widget-view+json": {
       "model_id": "7adb73d3592c4cfebeab3311347c7632",
       "version_major": 2,
       "version_minor": 0
      },
      "text/plain": [
       "HBox(children=(FloatProgress(value=0.0), HTML(value='')))"
      ]
     },
     "metadata": {},
     "output_type": "display_data"
    },
    {
     "name": "stdout",
     "output_type": "stream",
     "text": [
      "\n",
      "[157.64653  138.95537   73.108086 100.94665  100.249084]\n",
      "-4.17917\n",
      "0.89 0.96\n"
     ]
    },
    {
     "data": {
      "application/vnd.jupyter.widget-view+json": {
       "model_id": "42ecab787c9b41d3acae1bc7f9562b92",
       "version_major": 2,
       "version_minor": 0
      },
      "text/plain": [
       "HBox(children=(FloatProgress(value=0.0), HTML(value='')))"
      ]
     },
     "metadata": {},
     "output_type": "display_data"
    },
    {
     "name": "stdout",
     "output_type": "stream",
     "text": [
      "\n",
      "[180.3074   150.95093   68.3438    93.226746 101.27729 ]\n",
      "-4.4078403\n",
      "0.9 0.94\n"
     ]
    },
    {
     "data": {
      "application/vnd.jupyter.widget-view+json": {
       "model_id": "2a9beb9539cc4f428cc96d9276105a14",
       "version_major": 2,
       "version_minor": 0
      },
      "text/plain": [
       "HBox(children=(FloatProgress(value=0.0), HTML(value='')))"
      ]
     },
     "metadata": {},
     "output_type": "display_data"
    },
    {
     "name": "stdout",
     "output_type": "stream",
     "text": [
      "\n",
      "[180.18686  155.70103   76.01977  102.74059  106.798065]\n",
      "-4.4579797\n",
      "0.85 0.98\n"
     ]
    },
    {
     "data": {
      "application/vnd.jupyter.widget-view+json": {
       "model_id": "217f937fcbbf46f9bcdf8075d8e91c8f",
       "version_major": 2,
       "version_minor": 0
      },
      "text/plain": [
       "HBox(children=(FloatProgress(value=0.0), HTML(value='')))"
      ]
     },
     "metadata": {},
     "output_type": "display_data"
    },
    {
     "name": "stdout",
     "output_type": "stream",
     "text": [
      "\n",
      "[174.18585  151.43808   78.66713  100.762184  93.85442 ]\n",
      "-4.471085\n",
      "0.9 0.94\n"
     ]
    },
    {
     "data": {
      "application/vnd.jupyter.widget-view+json": {
       "model_id": "30c2fdadc9d045ea9bd8611953e86c1a",
       "version_major": 2,
       "version_minor": 0
      },
      "text/plain": [
       "HBox(children=(FloatProgress(value=0.0), HTML(value='')))"
      ]
     },
     "metadata": {},
     "output_type": "display_data"
    },
    {
     "name": "stdout",
     "output_type": "stream",
     "text": [
      "\n",
      "[181.35524 146.06456  67.37603 102.08492 110.40867]\n",
      "-4.4418225\n",
      "0.97 0.95\n"
     ]
    },
    {
     "data": {
      "application/vnd.jupyter.widget-view+json": {
       "model_id": "bc340aa273ce4f58b26dca871ad6aee0",
       "version_major": 2,
       "version_minor": 0
      },
      "text/plain": [
       "HBox(children=(FloatProgress(value=0.0), HTML(value='')))"
      ]
     },
     "metadata": {},
     "output_type": "display_data"
    },
    {
     "name": "stdout",
     "output_type": "stream",
     "text": [
      "\n",
      "[172.35234  154.42313   62.514847 109.487564  99.83022 ]\n",
      "-4.378249\n",
      "0.91 0.97\n"
     ]
    },
    {
     "data": {
      "application/vnd.jupyter.widget-view+json": {
       "model_id": "ccc9d280a7b94fcd8111e3a837f35df2",
       "version_major": 2,
       "version_minor": 0
      },
      "text/plain": [
       "HBox(children=(FloatProgress(value=0.0), HTML(value='')))"
      ]
     },
     "metadata": {},
     "output_type": "display_data"
    },
    {
     "name": "stdout",
     "output_type": "stream",
     "text": [
      "\n",
      "[185.39214 158.03844  70.38363 113.74407 113.15354]\n",
      "-4.5961504\n",
      "0.87 0.94\n"
     ]
    },
    {
     "data": {
      "application/vnd.jupyter.widget-view+json": {
       "model_id": "462ea1148304413e95ad71990cf859eb",
       "version_major": 2,
       "version_minor": 0
      },
      "text/plain": [
       "HBox(children=(FloatProgress(value=0.0), HTML(value='')))"
      ]
     },
     "metadata": {},
     "output_type": "display_data"
    },
    {
     "name": "stdout",
     "output_type": "stream",
     "text": [
      "\n",
      "[167.83688  149.73273   72.06472  104.521454  97.05596 ]\n",
      "-4.2979527\n",
      "0.86 0.94\n"
     ]
    },
    {
     "data": {
      "application/vnd.jupyter.widget-view+json": {
       "model_id": "5a4b4568700444959d077832de1be5d9",
       "version_major": 2,
       "version_minor": 0
      },
      "text/plain": [
       "HBox(children=(FloatProgress(value=0.0), HTML(value='')))"
      ]
     },
     "metadata": {},
     "output_type": "display_data"
    },
    {
     "name": "stdout",
     "output_type": "stream",
     "text": [
      "\n",
      "[179.07243  152.46172   78.5571   104.152664 109.732445]\n",
      "-4.4887004\n",
      "0.89 0.92\n"
     ]
    },
    {
     "data": {
      "application/vnd.jupyter.widget-view+json": {
       "model_id": "aa94f650dd0045d6bb4cf8b055065696",
       "version_major": 2,
       "version_minor": 0
      },
      "text/plain": [
       "HBox(children=(FloatProgress(value=0.0), HTML(value='')))"
      ]
     },
     "metadata": {},
     "output_type": "display_data"
    },
    {
     "name": "stdout",
     "output_type": "stream",
     "text": [
      "\n",
      "[188.33044 149.00726  66.64454 108.6893  105.45642]\n",
      "-4.512324\n",
      "0.83 0.91\n"
     ]
    },
    {
     "data": {
      "application/vnd.jupyter.widget-view+json": {
       "model_id": "605ed4e376b5499c8f69e2ae45f71238",
       "version_major": 2,
       "version_minor": 0
      },
      "text/plain": [
       "HBox(children=(FloatProgress(value=0.0), HTML(value='')))"
      ]
     },
     "metadata": {},
     "output_type": "display_data"
    },
    {
     "name": "stdout",
     "output_type": "stream",
     "text": [
      "\n",
      "[164.76422 149.92015  68.75471  99.88018 105.90974]\n",
      "-4.3288836\n",
      "0.91 0.92\n"
     ]
    },
    {
     "data": {
      "application/vnd.jupyter.widget-view+json": {
       "model_id": "cfc2b71e92d045adb878c1956d011e71",
       "version_major": 2,
       "version_minor": 0
      },
      "text/plain": [
       "HBox(children=(FloatProgress(value=0.0), HTML(value='')))"
      ]
     },
     "metadata": {},
     "output_type": "display_data"
    },
    {
     "name": "stdout",
     "output_type": "stream",
     "text": [
      "\n",
      "[175.31447 158.22588  64.41092 110.31937 106.72492]\n",
      "-4.4983683\n",
      "0.92 0.99\n"
     ]
    },
    {
     "data": {
      "application/vnd.jupyter.widget-view+json": {
       "model_id": "72e9020261ff4c429e440676bd71f448",
       "version_major": 2,
       "version_minor": 0
      },
      "text/plain": [
       "HBox(children=(FloatProgress(value=0.0), HTML(value='')))"
      ]
     },
     "metadata": {},
     "output_type": "display_data"
    },
    {
     "name": "stdout",
     "output_type": "stream",
     "text": [
      "\n",
      "[171.69258 142.8149   65.25077  94.95104 103.9665 ]\n",
      "-4.3126726\n",
      "0.88 0.94\n"
     ]
    },
    {
     "data": {
      "application/vnd.jupyter.widget-view+json": {
       "model_id": "bbe4e502067640f59133680308bb36b6",
       "version_major": 2,
       "version_minor": 0
      },
      "text/plain": [
       "HBox(children=(FloatProgress(value=0.0), HTML(value='')))"
      ]
     },
     "metadata": {},
     "output_type": "display_data"
    },
    {
     "name": "stdout",
     "output_type": "stream",
     "text": [
      "\n",
      "[171.7612  139.42613  57.10862  95.78554 104.18389]\n",
      "-4.2380466\n",
      "0.87 0.98\n"
     ]
    },
    {
     "data": {
      "application/vnd.jupyter.widget-view+json": {
       "model_id": "e5d9e488edfc4608a5fc46c8b8b6744d",
       "version_major": 2,
       "version_minor": 0
      },
      "text/plain": [
       "HBox(children=(FloatProgress(value=0.0), HTML(value='')))"
      ]
     },
     "metadata": {},
     "output_type": "display_data"
    },
    {
     "name": "stdout",
     "output_type": "stream",
     "text": [
      "\n",
      "[192.3747   152.75064   78.25794   99.274376 117.17306 ]\n",
      "-4.607714\n",
      "0.96 0.93\n"
     ]
    },
    {
     "data": {
      "application/vnd.jupyter.widget-view+json": {
       "model_id": "153ea58080d44397aad9626180a819d8",
       "version_major": 2,
       "version_minor": 0
      },
      "text/plain": [
       "HBox(children=(FloatProgress(value=0.0), HTML(value='')))"
      ]
     },
     "metadata": {},
     "output_type": "display_data"
    },
    {
     "name": "stdout",
     "output_type": "stream",
     "text": [
      "\n",
      "[171.71437 151.95184  57.60466  97.91655 109.30702]\n",
      "-4.3455973\n",
      "0.89 0.97\n"
     ]
    },
    {
     "data": {
      "application/vnd.jupyter.widget-view+json": {
       "model_id": "388683485fee43b5afefa64489d33ba4",
       "version_major": 2,
       "version_minor": 0
      },
      "text/plain": [
       "HBox(children=(FloatProgress(value=0.0), HTML(value='')))"
      ]
     },
     "metadata": {},
     "output_type": "display_data"
    },
    {
     "name": "stdout",
     "output_type": "stream",
     "text": [
      "\n",
      "[186.9818   156.77032   63.888252  95.3741   106.99524 ]\n",
      "-4.5722857\n",
      "0.92 0.94\n"
     ]
    },
    {
     "data": {
      "application/vnd.jupyter.widget-view+json": {
       "model_id": "50d166866d854b998d121b9a4db4d15c",
       "version_major": 2,
       "version_minor": 0
      },
      "text/plain": [
       "HBox(children=(FloatProgress(value=0.0), HTML(value='')))"
      ]
     },
     "metadata": {},
     "output_type": "display_data"
    },
    {
     "name": "stdout",
     "output_type": "stream",
     "text": [
      "\n",
      "[187.75754  158.63295   60.383312 106.85955  111.85211 ]\n",
      "-4.6013513\n",
      "0.92 0.96\n"
     ]
    },
    {
     "data": {
      "application/vnd.jupyter.widget-view+json": {
       "model_id": "40bc9f31ffcd49619928715774b82f67",
       "version_major": 2,
       "version_minor": 0
      },
      "text/plain": [
       "HBox(children=(FloatProgress(value=0.0), HTML(value='')))"
      ]
     },
     "metadata": {},
     "output_type": "display_data"
    },
    {
     "name": "stdout",
     "output_type": "stream",
     "text": [
      "\n",
      "[178.05197  143.99324   62.646698  98.28012  111.81263 ]\n",
      "-4.4230156\n",
      "0.94 0.93\n"
     ]
    },
    {
     "data": {
      "application/vnd.jupyter.widget-view+json": {
       "model_id": "eff6964d70e14471aff8e3c2d66b8823",
       "version_major": 2,
       "version_minor": 0
      },
      "text/plain": [
       "HBox(children=(FloatProgress(value=0.0), HTML(value='')))"
      ]
     },
     "metadata": {},
     "output_type": "display_data"
    },
    {
     "name": "stdout",
     "output_type": "stream",
     "text": [
      "\n",
      "[171.68552  149.38438   63.572273 102.18792  100.53018 ]\n",
      "-4.330494\n",
      "0.97 0.94\n"
     ]
    },
    {
     "data": {
      "application/vnd.jupyter.widget-view+json": {
       "model_id": "cd0ad1d70b854c06a4f91bd01f7ae904",
       "version_major": 2,
       "version_minor": 0
      },
      "text/plain": [
       "HBox(children=(FloatProgress(value=0.0), HTML(value='')))"
      ]
     },
     "metadata": {},
     "output_type": "display_data"
    },
    {
     "name": "stdout",
     "output_type": "stream",
     "text": [
      "\n",
      "[176.29585 158.38837  72.99393 104.8684  109.00272]\n",
      "-4.4555326\n",
      "0.91 0.95\n",
      "\n"
     ]
    }
   ],
   "source": [
    "eps1 = 1E-1\n",
    "eps2 = 1E-2\n",
    "eps3 = 1E-1\n",
    "\n",
    "r = 0.1\n",
    "for k in trange(30):\n",
    "    accept_count_hmc1 = 0\n",
    "    accept_count_hmc2 = 0\n",
    "    accept_count_hmc3 = 0\n",
    "    accept_count_exmc = 0\n",
    "\n",
    "    for i in trange(100):\n",
    "        D,B,z, accept_HMC1 = HMC(U_fast,grad_U, eps_common, 20, D,B,z,a,b,p, M1)\n",
    "\n",
    "        a,b,p, accept_ExMC = exchangeMC(D, B, z,a, b, p, r)\n",
    "        accept_count_hmc1 += accept_HMC1\n",
    "\n",
    "        accept_count_exmc+= accept_ExMC\n",
    "        \n",
    "        D_trace.append(D)\n",
    "        b_trace.append(b)\n",
    "        B_trace.append(B)\n",
    "        z_trace.append(z)\n",
    "        \n",
    "    accept_rate_hmc1 = accept_count_hmc1/ 100.0\n",
    "\n",
    "    accept_rate_exmc = accept_count_exmc/ 100.0\n",
    "        \n",
    "\n",
    "    \n",
    "    print(np.abs(D))\n",
    "    print(z)\n",
    "\n",
    "    print(accept_rate_hmc1, accept_rate_exmc)"
   ]
  },
  {
   "cell_type": "code",
   "execution_count": 38,
   "metadata": {},
   "outputs": [],
   "source": [
    "### n,k = B.shape\n",
    "\n",
    "tau = 1E-2\n",
    "\n",
    "W = 1/(1+np.exp(-B/tau))\n",
    "\n",
    "X = W @ np.diag(a) + (1.0-W)@ np.diag(b)\n",
    "\n",
    "Mx = X.T@X\n",
    "cholL = np.linalg.cholesky(Mx)\n",
    "Q= np.linalg.solve(cholL, X.T).T"
   ]
  },
  {
   "cell_type": "code",
   "execution_count": 40,
   "metadata": {},
   "outputs": [
    {
     "data": {
      "text/plain": [
       "DeviceArray([176.29585, 158.38837,  72.99393, 104.8684 , 109.00272], dtype=float32)"
      ]
     },
     "execution_count": 40,
     "metadata": {},
     "output_type": "execute_result"
    }
   ],
   "source": [
    "D"
   ]
  },
  {
   "cell_type": "code",
   "execution_count": 41,
   "metadata": {},
   "outputs": [
    {
     "data": {
      "text/plain": [
       "<matplotlib.image.AxesImage at 0x7efe0458b290>"
      ]
     },
     "execution_count": 41,
     "metadata": {},
     "output_type": "execute_result"
    },
    {
     "data": {
      "image/png": "[encoded data removed]",
      "text/plain": [
       "<Figure size 432x288 with 1 Axes>"
      ]
     },
     "metadata": {
      "needs_background": "light"
     },
     "output_type": "display_data"
    }
   ],
   "source": [
    "plt.imshow(A)"
   ]
  },
  {
   "cell_type": "code",
   "execution_count": 42,
   "metadata": {},
   "outputs": [
    {
     "data": {
      "text/plain": [
       "<matplotlib.colorbar.Colorbar at 0x7efe04522c50>"
      ]
     },
     "execution_count": 42,
     "metadata": {},
     "output_type": "execute_result"
    },
    {
     "data": {
      "image/png": "[encoded data removed]",
      "text/plain": [
       "<Figure size 432x288 with 2 Axes>"
      ]
     },
     "metadata": {
      "needs_background": "light"
     },
     "output_type": "display_data"
    }
   ],
   "source": [
    "plt.imshow(sigmoid(Q@np.diag(np.abs(D))@Q.T + z))\n",
    "plt.colorbar()"
   ]
  },
  {
   "cell_type": "code",
   "execution_count": 49,
   "metadata": {},
   "outputs": [],
   "source": [
    "k =5"
   ]
  },
  {
   "cell_type": "code",
   "execution_count": 51,
   "metadata": {},
   "outputs": [
    {
     "data": {
      "image/png": "[encoded data removed]",
      "text/plain": [
       "<Figure size 288x288 with 2 Axes>"
      ]
     },
     "metadata": {
      "needs_background": "light"
     },
     "output_type": "display_data"
    },
    {
     "data": {
      "image/png": "[encoded data removed]",
      "text/plain": [
       "<Figure size 288x288 with 2 Axes>"
      ]
     },
     "metadata": {
      "needs_background": "light"
     },
     "output_type": "display_data"
    },
    {
     "data": {
      "image/png": "[encoded data removed]",
      "text/plain": [
       "<Figure size 288x288 with 2 Axes>"
      ]
     },
     "metadata": {
      "needs_background": "light"
     },
     "output_type": "display_data"
    },
    {
     "data": {
      "image/png": "[encoded data removed]",
      "text/plain": [
       "<Figure size 288x288 with 2 Axes>"
      ]
     },
     "metadata": {
      "needs_background": "light"
     },
     "output_type": "display_data"
    },
    {
     "data": {
      "image/png": "[encoded data removed]",
      "text/plain": [
       "<Figure size 288x288 with 2 Axes>"
      ]
     },
     "metadata": {
      "needs_background": "light"
     },
     "output_type": "display_data"
    }
   ],
   "source": [
    "for i in range(k):\n",
    "    q0 = np.expand_dims(Q[:,i],1)\n",
    "    plt.matshow(q0@q0.T* D[i] )\n",
    "    plt.colorbar()"
   ]
  },
  {
   "cell_type": "code",
   "execution_count": 52,
   "metadata": {},
   "outputs": [],
   "source": [
    "D_trace = onp.array(D_trace)"
   ]
  },
  {
   "cell_type": "code",
   "execution_count": 58,
   "metadata": {},
   "outputs": [
    {
     "data": {
      "text/plain": [
       "[<matplotlib.lines.Line2D at 0x7f00ac50a790>,\n",
       " <matplotlib.lines.Line2D at 0x7f011411f850>,\n",
       " <matplotlib.lines.Line2D at 0x7f00ac19fa10>,\n",
       " <matplotlib.lines.Line2D at 0x7f00ac19fb50>,\n",
       " <matplotlib.lines.Line2D at 0x7efe042532d0>]"
      ]
     },
     "execution_count": 58,
     "metadata": {},
     "output_type": "execute_result"
    },
    {
     "data": {
      "image/png": "[encoded data removed]",
      "text/plain": [
       "<Figure size 432x288 with 1 Axes>"
      ]
     },
     "metadata": {
      "needs_background": "light"
     },
     "output_type": "display_data"
    }
   ],
   "source": [
    "plt.plot(D_trace)"
   ]
  },
  {
   "cell_type": "code",
   "execution_count": 60,
   "metadata": {},
   "outputs": [
    {
     "data": {
      "text/plain": [
       "[<matplotlib.lines.Line2D at 0x7efde558a8d0>]"
      ]
     },
     "execution_count": 60,
     "metadata": {},
     "output_type": "execute_result"
    },
    {
     "data": {
      "image/png": "[encoded data removed]",
      "text/plain": [
       "<Figure size 432x288 with 1 Axes>"
      ]
     },
     "metadata": {
      "needs_background": "light"
     },
     "output_type": "display_data"
    }
   ],
   "source": [
    "plt.plot(onp.array(z_trace))"
   ]
  }
 ],
 "metadata": {
  "kernelspec": {
   "display_name": "Python 3",
   "language": "python",
   "name": "python3"
  },
  "language_info": {
   "codemirror_mode": {
    "name": "ipython",
    "version": 3
   },
   "file_extension": ".py",
   "mimetype": "text/x-python",
   "name": "python",
   "nbconvert_exporter": "python",
   "pygments_lexer": "ipython3",
   "version": "3.7.1"
  }
 },
 "nbformat": 4,
 "nbformat_minor": 4
}
